{
 "cells": [
  {
   "cell_type": "code",
   "execution_count": 6,
   "metadata": {},
   "outputs": [
    {
     "name": "stdout",
     "output_type": "stream",
     "text": [
      "The autoreload extension is already loaded. To reload it, use:\n",
      "  %reload_ext autoreload\n"
     ]
    }
   ],
   "source": [
    "%load_ext autoreload\n",
    "%autoreload 2"
   ]
  },
  {
   "cell_type": "code",
   "execution_count": 87,
   "metadata": {},
   "outputs": [],
   "source": [
    "from __future__ import absolute_import\n",
    "from __future__ import division\n",
    "from __future__ import print_function\n",
    "\n",
    "import os\n",
    "import glob\n",
    "import tabulate\n",
    "import pprint\n",
    "import click\n",
    "import numpy as np\n",
    "import pandas as pd\n",
    "from ray.tune.commands import *\n",
    "from nupic.research.frameworks.dynamic_sparse.common.browser import *\n",
    "\n",
    "import matplotlib.pyplot as plt\n",
    "from matplotlib import rcParams\n",
    "\n",
    "%config InlineBackend.figure_format = 'retina'\n",
    "\n",
    "import seaborn as sns\n",
    "sns.set(style=\"whitegrid\")\n",
    "sns.set_palette(\"colorblind\")"
   ]
  },
  {
   "cell_type": "code",
   "execution_count": 88,
   "metadata": {},
   "outputs": [],
   "source": [
    "base = \"gsc-plots-2019-10-22-test\"\n",
    "exps = [\n",
    "    os.path.join(base, exp) for exp in [\n",
    "        'gsc-Static',\n",
    "    ]\n",
    "]\n",
    "paths = [os.path.expanduser(\"~/nta/results/{}\".format(e)) for e in exps]\n",
    "is_extra = lambda x: \"mag_vs_coacts_layer\" in x\n",
    "df = load_many(paths, raw_metrics=[is_extra])\n",
    "df = unpickle_within_dataframe(df, [is_extra])"
   ]
  },
  {
   "cell_type": "code",
   "execution_count": 89,
   "metadata": {},
   "outputs": [
    {
     "data": {
      "text/html": [
       "<div>\n",
       "<style scoped>\n",
       "    .dataframe tbody tr th:only-of-type {\n",
       "        vertical-align: middle;\n",
       "    }\n",
       "\n",
       "    .dataframe tbody tr th {\n",
       "        vertical-align: top;\n",
       "    }\n",
       "\n",
       "    .dataframe thead th {\n",
       "        text-align: right;\n",
       "    }\n",
       "</style>\n",
       "<table border=\"1\" class=\"dataframe\">\n",
       "  <thead>\n",
       "    <tr style=\"text-align: right;\">\n",
       "      <th></th>\n",
       "      <th>Experiment Name</th>\n",
       "      <th>train_acc_max</th>\n",
       "      <th>train_acc_max_epoch</th>\n",
       "      <th>train_acc_min</th>\n",
       "      <th>train_acc_min_epoch</th>\n",
       "      <th>train_acc_median</th>\n",
       "      <th>train_acc_last</th>\n",
       "      <th>val_acc_max</th>\n",
       "      <th>val_acc_max_epoch</th>\n",
       "      <th>val_acc_min</th>\n",
       "      <th>...</th>\n",
       "      <th>momentum</th>\n",
       "      <th>name</th>\n",
       "      <th>net_params</th>\n",
       "      <th>network</th>\n",
       "      <th>on_perc</th>\n",
       "      <th>optim_alg</th>\n",
       "      <th>prune_methods</th>\n",
       "      <th>test_noise</th>\n",
       "      <th>track_coactivation_variants</th>\n",
       "      <th>weight_decay</th>\n",
       "    </tr>\n",
       "  </thead>\n",
       "  <tbody>\n",
       "    <tr>\n",
       "      <th>0</th>\n",
       "      <td>0_model=SparseModel,on_perc=[0.5, 0.1, 0.1, 1.0]</td>\n",
       "      <td>0.841275</td>\n",
       "      <td>1</td>\n",
       "      <td>0.682990</td>\n",
       "      <td>0</td>\n",
       "      <td>0.762133</td>\n",
       "      <td>0.841275</td>\n",
       "      <td>0.915752</td>\n",
       "      <td>1</td>\n",
       "      <td>0.871865</td>\n",
       "      <td>...</td>\n",
       "      <td>0.0</td>\n",
       "      <td>gsc-plots-2019-10-22-test</td>\n",
       "      <td>{'boost_strength': 1.5, 'boost_strength_factor...</td>\n",
       "      <td>gsc_sparse_dsnn</td>\n",
       "      <td>0.425</td>\n",
       "      <td>SGD</td>\n",
       "      <td>dynamic-conv-dynamic-conv-dynamic-linear-dynam...</td>\n",
       "      <td>False</td>\n",
       "      <td>True</td>\n",
       "      <td>0.01</td>\n",
       "    </tr>\n",
       "    <tr>\n",
       "      <th>1</th>\n",
       "      <td>1_model=SparseModel,on_perc=[0.5, 0.1, 0.1, 1.0]</td>\n",
       "      <td>0.839664</td>\n",
       "      <td>1</td>\n",
       "      <td>0.672151</td>\n",
       "      <td>0</td>\n",
       "      <td>0.755908</td>\n",
       "      <td>0.839664</td>\n",
       "      <td>0.913401</td>\n",
       "      <td>1</td>\n",
       "      <td>0.860502</td>\n",
       "      <td>...</td>\n",
       "      <td>0.0</td>\n",
       "      <td>gsc-plots-2019-10-22-test</td>\n",
       "      <td>{'boost_strength': 1.5, 'boost_strength_factor...</td>\n",
       "      <td>gsc_sparse_dsnn</td>\n",
       "      <td>0.425</td>\n",
       "      <td>SGD</td>\n",
       "      <td>dynamic-conv-dynamic-conv-dynamic-linear-dynam...</td>\n",
       "      <td>False</td>\n",
       "      <td>True</td>\n",
       "      <td>0.01</td>\n",
       "    </tr>\n",
       "  </tbody>\n",
       "</table>\n",
       "<p>2 rows × 50 columns</p>\n",
       "</div>"
      ],
      "text/plain": [
       "                                    Experiment Name  train_acc_max  \\\n",
       "0  0_model=SparseModel,on_perc=[0.5, 0.1, 0.1, 1.0]       0.841275   \n",
       "1  1_model=SparseModel,on_perc=[0.5, 0.1, 0.1, 1.0]       0.839664   \n",
       "\n",
       "   train_acc_max_epoch  train_acc_min  train_acc_min_epoch  train_acc_median  \\\n",
       "0                    1       0.682990                    0          0.762133   \n",
       "1                    1       0.672151                    0          0.755908   \n",
       "\n",
       "   train_acc_last  val_acc_max  val_acc_max_epoch  val_acc_min  ...  momentum  \\\n",
       "0        0.841275     0.915752                  1     0.871865  ...       0.0   \n",
       "1        0.839664     0.913401                  1     0.860502  ...       0.0   \n",
       "\n",
       "                        name  \\\n",
       "0  gsc-plots-2019-10-22-test   \n",
       "1  gsc-plots-2019-10-22-test   \n",
       "\n",
       "                                          net_params          network on_perc  \\\n",
       "0  {'boost_strength': 1.5, 'boost_strength_factor...  gsc_sparse_dsnn   0.425   \n",
       "1  {'boost_strength': 1.5, 'boost_strength_factor...  gsc_sparse_dsnn   0.425   \n",
       "\n",
       "  optim_alg                                      prune_methods test_noise  \\\n",
       "0       SGD  dynamic-conv-dynamic-conv-dynamic-linear-dynam...      False   \n",
       "1       SGD  dynamic-conv-dynamic-conv-dynamic-linear-dynam...      False   \n",
       "\n",
       "  track_coactivation_variants weight_decay  \n",
       "0                        True         0.01  \n",
       "1                        True         0.01  \n",
       "\n",
       "[2 rows x 50 columns]"
      ]
     },
     "execution_count": 89,
     "metadata": {},
     "output_type": "execute_result"
    }
   ],
   "source": [
    "df"
   ]
  },
  {
   "cell_type": "code",
   "execution_count": 90,
   "metadata": {},
   "outputs": [
    {
     "data": {
      "text/plain": [
       "Index(['Experiment Name', 'train_acc_max', 'train_acc_max_epoch',\n",
       "       'train_acc_min', 'train_acc_min_epoch', 'train_acc_median',\n",
       "       'train_acc_last', 'val_acc_max', 'val_acc_max_epoch', 'val_acc_min',\n",
       "       'val_acc_min_epoch', 'val_acc_median', 'val_acc_last', 'val_acc_all',\n",
       "       'mag_vs_coacts_layer-2/coacts', 'mag_vs_coacts_layer-2/weights',\n",
       "       'mag_vs_coacts_layer-7/coacts', 'mag_vs_coacts_layer-7/weights',\n",
       "       'mag_vs_coacts_layer-13/coacts', 'mag_vs_coacts_layer-13/weights',\n",
       "       'mag_vs_coacts_layer-16/coacts', 'mag_vs_coacts_layer-16/weights',\n",
       "       'epochs', 'experiment_file_name', 'trial_time', 'mean_epoch_time',\n",
       "       'batch_size_test', 'batch_size_train', 'conv_update_interval',\n",
       "       'data_dir', 'dataset_name', 'debug_sparse', 'debug_weights', 'device',\n",
       "       'learning_rate', 'log_magnitude_vs_coactivations', 'lr_gamma',\n",
       "       'lr_scheduler', 'lr_step_size', 'model', 'momentum', 'name',\n",
       "       'net_params', 'network', 'on_perc', 'optim_alg', 'prune_methods',\n",
       "       'test_noise', 'track_coactivation_variants', 'weight_decay'],\n",
       "      dtype='object')"
      ]
     },
     "execution_count": 90,
     "metadata": {},
     "output_type": "execute_result"
    }
   ],
   "source": [
    "df.columns"
   ]
  },
  {
   "cell_type": "code",
   "execution_count": null,
   "metadata": {},
   "outputs": [],
   "source": []
  }
 ],
 "metadata": {
  "kernelspec": {
   "display_name": "Python 3",
   "language": "python",
   "name": "python3"
  },
  "language_info": {
   "codemirror_mode": {
    "name": "ipython",
    "version": 3
   },
   "file_extension": ".py",
   "mimetype": "text/x-python",
   "name": "python",
   "nbconvert_exporter": "python",
   "pygments_lexer": "ipython3",
   "version": "3.7.3"
  }
 },
 "nbformat": 4,
 "nbformat_minor": 4
}
